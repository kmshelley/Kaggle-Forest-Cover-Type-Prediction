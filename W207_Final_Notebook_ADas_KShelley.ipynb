{
 "cells": [
  {
   "cell_type": "markdown",
   "metadata": {},
   "source": [
    "#W207 Machine Learning Final Project #\n",
    "###Forest Cover Type Prediction###\n",
    "Amitava Das & Katherine Shelley"
   ]
  },
  {
   "cell_type": "markdown",
   "metadata": {},
   "source": [
    "###Data Dictionary###"
   ]
  },
  {
   "cell_type": "raw",
   "metadata": {},
   "source": [
    "Name                                     Data Type    Measurement                       Description\n",
    "\n",
    "Elevation                               quantitative    meters                       Elevation in meters\n",
    "Aspect                                  quantitative    azimuth                      Aspect in degrees azimuth\n",
    "Slope                                   quantitative    degrees                      Slope in degrees\n",
    "Horizontal_Distance_To_Hydrology        quantitative    meters                       Horz Dist to nearest surface water features\n",
    "Vertical_Distance_To_Hydrology          quantitative    meters                       Vert Dist to nearest surface water features\n",
    "Horizontal_Distance_To_Roadways         quantitative    meters                       Horz Dist to nearest roadway\n",
    "Hillshade_9am                           quantitative    0 to 255 index               Hillshade index at 9am, summer solstice\n",
    "Hillshade_Noon                          quantitative    0 to 255 index               Hillshade index at noon, summer soltice\n",
    "Hillshade_3pm                           quantitative    0 to 255 index               Hillshade index at 3pm, summer solstice\n",
    "Horizontal_Distance_To_Fire_Points      quantitative    meters                       Horz Dist to nearest wildfire ignition points\n",
    "Wilderness_Area (4 binary columns)      qualitative     0 (absence) or 1 (presence)  Wilderness area designation\n",
    "Soil_Type (40 binary columns)           qualitative     0 (absence) or 1 (presence)  Soil Type designation\n",
    "Cover_Type (7 types)                    integer         1 to 7                       Forest Cover Type designation\n",
    "\n",
    "\n",
    "Code Designations:\n",
    "\n",
    "Wilderness Areas:  \t1 -- Rawah Wilderness Area\n",
    "                    2 -- Neota Wilderness Area\n",
    "                    3 -- Comanche Peak Wilderness Area\n",
    "                    4 -- Cache la Poudre Wilderness Area\n",
    "\n",
    "Soil Types:             1 to 40 : based on the USFS Ecological\n",
    "                        Landtype Units (ELUs) for this study area:\n",
    "\n",
    "  Study Code USFS ELU Code\t\t\tDescription\n",
    "\t 1\t   2702\t\tCathedral family - Rock outcrop complex, extremely stony.\n",
    "\t 2\t   2703\t\tVanet - Ratake families complex, very stony.\n",
    "\t 3\t   2704\t\tHaploborolis - Rock outcrop complex, rubbly.\n",
    "\t 4\t   2705\t\tRatake family - Rock outcrop complex, rubbly.\n",
    "\t 5\t   2706\t\tVanet family - Rock outcrop complex complex, rubbly.\n",
    "\t 6\t   2717\t\tVanet - Wetmore families - Rock outcrop complex, stony.\n",
    "\t 7\t   3501\t\tGothic family.\n",
    "\t 8\t   3502\t\tSupervisor - Limber families complex.\n",
    "\t 9\t   4201\t\tTroutville family, very stony.\n",
    "\t10\t   4703\t\tBullwark - Catamount families - Rock outcrop complex, rubbly.\n",
    "\t11\t   4704\t\tBullwark - Catamount families - Rock land complex, rubbly.\n",
    "\t12\t   4744\t\tLegault family - Rock land complex, stony.\n",
    "\t13\t   4758\t\tCatamount family - Rock land - Bullwark family complex, rubbly.\n",
    "\t14\t   5101\t\tPachic Argiborolis - Aquolis complex.\n",
    "\t15\t   5151\t\tunspecified in the USFS Soil and ELU Survey.\n",
    "\t16\t   6101\t\tCryaquolis - Cryoborolis complex.\n",
    "\t17\t   6102\t\tGateview family - Cryaquolis complex.\n",
    "\t18\t   6731\t\tRogert family, very stony.\n",
    "\t19\t   7101\t\tTypic Cryaquolis - Borohemists complex.\n",
    "\t20\t   7102\t\tTypic Cryaquepts - Typic Cryaquolls complex.\n",
    "\t21\t   7103\t\tTypic Cryaquolls - Leighcan family, till substratum complex.\n",
    "\t22\t   7201\t\tLeighcan family, till substratum, extremely bouldery.\n",
    "\t23\t   7202\t\tLeighcan family, till substratum - Typic Cryaquolls complex.\n",
    "\t24\t   7700\t\tLeighcan family, extremely stony.\n",
    "\t25\t   7701\t\tLeighcan family, warm, extremely stony.\n",
    "\t26\t   7702\t\tGranile - Catamount families complex, very stony.\n",
    "\t27\t   7709\t\tLeighcan family, warm - Rock outcrop complex, extremely stony.\n",
    "\t28\t   7710\t\tLeighcan family - Rock outcrop complex, extremely stony.\n",
    "\t29\t   7745\t\tComo - Legault families complex, extremely stony.\n",
    "\t30\t   7746\t\tComo family - Rock land - Legault family complex, extremely stony.\n",
    "\t31\t   7755\t\tLeighcan - Catamount families complex, extremely stony.\n",
    "\t32\t   7756\t\tCatamount family - Rock outcrop - Leighcan family complex, extremely stony.\n",
    "\t33\t   7757\t\tLeighcan - Catamount families - Rock outcrop complex, extremely stony.\n",
    "\t34\t   7790\t\tCryorthents - Rock land complex, extremely stony.\n",
    "\t35\t   8703\t\tCryumbrepts - Rock outcrop - Cryaquepts complex.\n",
    "\t36\t   8707\t\tBross family - Rock land - Cryumbrepts complex, extremely stony.\n",
    "\t37\t   8708\t\tRock outcrop - Cryumbrepts - Cryorthents complex, extremely stony.\n",
    "\t38\t   8771\t\tLeighcan - Moran families - Cryaquolls complex, extremely stony.\n",
    "\t39\t   8772\t\tMoran family - Cryorthents - Leighcan family complex, extremely stony.\n",
    "\t40\t   8776\t\tMoran family - Cryorthents - Rock land complex, extremely stony.\n",
    "\n",
    "        Note:   First digit:  climatic zone             Second digit:  geologic zones\n",
    "                1.  lower montane dry                   1.  alluvium\n",
    "                2.  lower montane                       2.  glacial\n",
    "                3.  montane dry                         3.  shale\n",
    "                4.  montane                             4.  sandstone\n",
    "                5.  montane dry and montane             5.  mixed sedimentary\n",
    "                6.  montane and subalpine               6.  unspecified in the USFS ELU Survey\n",
    "                7.  subalpine                           7.  igneous and metamorphic\n",
    "                8.  alpine                              8.  volcanic\n",
    "\n",
    "        The third and fourth ELU digits are unique to the mapping unit \n",
    "        and have no special meaning to the climatic or geologic zones.\n",
    "\n",
    "Forest Cover Type Classes:\t1 -- Spruce/Fir\n",
    "                            2 -- Lodgepole Pine\n",
    "                            3 -- Ponderosa Pine\n",
    "                            4 -- Cottonwood/Willow\n",
    "                            5 -- Aspen\n",
    "                            6 -- Douglas-fir\n",
    "                            7 -- Krummholz"
   ]
  },
  {
   "cell_type": "markdown",
   "metadata": {},
   "source": [
    "####Part 1: Data Collection and Baseline Estimation####\n",
    "First we will download the data and split it into a training, development, and test sets."
   ]
  },
  {
   "cell_type": "code",
   "execution_count": 18,
   "metadata": {
    "collapsed": true
   },
   "outputs": [],
   "source": [
    "import os\n",
    "import pandas as pd\n",
    "import numpy as np"
   ]
  },
  {
   "cell_type": "code",
   "execution_count": 19,
   "metadata": {
    "collapsed": true
   },
   "outputs": [],
   "source": [
    "np.random.seed(0)"
   ]
  },
  {
   "cell_type": "code",
   "execution_count": 23,
   "metadata": {
    "collapsed": false
   },
   "outputs": [
    {
     "name": "stdout",
     "output_type": "stream",
     "text": [
      "   Id  Elevation  Aspect  Slope  Horizontal_Distance_To_Hydrology  \\\n",
      "0   1       2596      51      3                               258   \n",
      "1   2       2590      56      2                               212   \n",
      "2   3       2804     139      9                               268   \n",
      "\n",
      "   Vertical_Distance_To_Hydrology  Horizontal_Distance_To_Roadways  \\\n",
      "0                               0                              510   \n",
      "1                              -6                              390   \n",
      "2                              65                             3180   \n",
      "\n",
      "   Hillshade_9am  Hillshade_Noon  Hillshade_3pm     ...      Soil_Type32  \\\n",
      "0            221             232            148     ...                0   \n",
      "1            220             235            151     ...                0   \n",
      "2            234             238            135     ...                0   \n",
      "\n",
      "   Soil_Type33  Soil_Type34  Soil_Type35  Soil_Type36  Soil_Type37  \\\n",
      "0            0            0            0            0            0   \n",
      "1            0            0            0            0            0   \n",
      "2            0            0            0            0            0   \n",
      "\n",
      "   Soil_Type38  Soil_Type39  Soil_Type40  Cover_Type  \n",
      "0            0            0            0           5  \n",
      "1            0            0            0           5  \n",
      "2            0            0            0           2  \n",
      "\n",
      "[3 rows x 56 columns]\n",
      "data shape:  (15120, 55)\n",
      "label shape: (15120,)\n"
     ]
    }
   ],
   "source": [
    "#read the data into a pandas dataframe\n",
    "data = os.path.join(os.getcwd(),'train.csv')\n",
    "df = pd.read_csv(data)\n",
    "print df.head(3)\n",
    "\n",
    "#Separate the features from the labels (the last column of the data frame), convert to numpy arrays \n",
    "X,Y = df.as_matrix()[:,:-1],df.as_matrix()[:,-1]\n",
    "\n",
    "# Shuffle the input: create a random permutation of the integers between 0 and the number of data points and apply this\n",
    "# permutation to X and Y.\n",
    "# NOTE: Each time you run this cell, you'll re-shuffle the data, resulting in a different ordering.\n",
    "shuffle = np.random.permutation(np.arange(X.shape[0]))\n",
    "\n",
    "X, Y = X[shuffle], Y[shuffle]\n",
    "print 'data shape: ', X.shape\n",
    "print 'label shape:', Y.shape\n",
    "\n",
    "# Set some variables to hold test, dev, and training data; though for our initial baseline submission we will\n",
    "# train on the entire data set\n",
    "N = X.shape[0]\n",
    "test_data, test_labels = X[2*N/3:], Y[2*N/3:]\n",
    "dev_data, dev_labels = X[N/3:2*N/3], Y[N/3:2*N/3]\n",
    "train_data, train_labels = X[:N/3], Y[:N/3]"
   ]
  },
  {
   "cell_type": "code",
   "execution_count": null,
   "metadata": {
    "collapsed": true
   },
   "outputs": [],
   "source": []
  }
 ],
 "metadata": {
  "kernelspec": {
   "display_name": "Python 2",
   "language": "python",
   "name": "python2"
  },
  "language_info": {
   "codemirror_mode": {
    "name": "ipython",
    "version": 2
   },
   "file_extension": ".py",
   "mimetype": "text/x-python",
   "name": "python",
   "nbconvert_exporter": "python",
   "pygments_lexer": "ipython2",
   "version": "2.7.9"
  }
 },
 "nbformat": 4,
 "nbformat_minor": 0
}
