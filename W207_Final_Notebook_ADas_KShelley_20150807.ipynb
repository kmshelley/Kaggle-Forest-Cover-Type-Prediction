{
 "cells": [
  {
   "cell_type": "markdown",
   "metadata": {},
   "source": [
    "#W207 Machine Learning Final Project #\n",
    "###Forest Cover Type Prediction###\n",
    "Amitava Das & Katherine Shelley"
   ]
  },
  {
   "cell_type": "markdown",
   "metadata": {},
   "source": [
    "###Data Dictionary###"
   ]
  },
  {
   "cell_type": "raw",
   "metadata": {},
   "source": [
    "Name                                     Data Type    Measurement                       Description\n",
    "\n",
    "Elevation                               quantitative    meters                       Elevation in meters\n",
    "Aspect                                  quantitative    azimuth                      Aspect in degrees azimuth\n",
    "Slope                                   quantitative    degrees                      Slope in degrees\n",
    "Horizontal_Distance_To_Hydrology        quantitative    meters                       Horz Dist to nearest surface water features\n",
    "Vertical_Distance_To_Hydrology          quantitative    meters                       Vert Dist to nearest surface water features\n",
    "Horizontal_Distance_To_Roadways         quantitative    meters                       Horz Dist to nearest roadway\n",
    "Hillshade_9am                           quantitative    0 to 255 index               Hillshade index at 9am, summer solstice\n",
    "Hillshade_Noon                          quantitative    0 to 255 index               Hillshade index at noon, summer soltice\n",
    "Hillshade_3pm                           quantitative    0 to 255 index               Hillshade index at 3pm, summer solstice\n",
    "Horizontal_Distance_To_Fire_Points      quantitative    meters                       Horz Dist to nearest wildfire ignition points\n",
    "Wilderness_Area (4 binary columns)      qualitative     0 (absence) or 1 (presence)  Wilderness area designation\n",
    "Soil_Type (40 binary columns)           qualitative     0 (absence) or 1 (presence)  Soil Type designation\n",
    "Cover_Type (7 types)                    integer         1 to 7                       Forest Cover Type designation\n",
    "\n",
    "\n",
    "Code Designations:\n",
    "\n",
    "Wilderness Areas:  \t1 -- Rawah Wilderness Area\n",
    "                    2 -- Neota Wilderness Area\n",
    "                    3 -- Comanche Peak Wilderness Area\n",
    "                    4 -- Cache la Poudre Wilderness Area\n",
    "\n",
    "Soil Types:             1 to 40 : based on the USFS Ecological\n",
    "                        Landtype Units (ELUs) for this study area:\n",
    "\n",
    "  Study Code USFS ELU Code\t\t\tDescription\n",
    "\t 1\t   2702\t\tCathedral family - Rock outcrop complex, extremely stony.\n",
    "\t 2\t   2703\t\tVanet - Ratake families complex, very stony.\n",
    "\t 3\t   2704\t\tHaploborolis - Rock outcrop complex, rubbly.\n",
    "\t 4\t   2705\t\tRatake family - Rock outcrop complex, rubbly.\n",
    "\t 5\t   2706\t\tVanet family - Rock outcrop complex complex, rubbly.\n",
    "\t 6\t   2717\t\tVanet - Wetmore families - Rock outcrop complex, stony.\n",
    "\t 7\t   3501\t\tGothic family.\n",
    "\t 8\t   3502\t\tSupervisor - Limber families complex.\n",
    "\t 9\t   4201\t\tTroutville family, very stony.\n",
    "\t10\t   4703\t\tBullwark - Catamount families - Rock outcrop complex, rubbly.\n",
    "\t11\t   4704\t\tBullwark - Catamount families - Rock land complex, rubbly.\n",
    "\t12\t   4744\t\tLegault family - Rock land complex, stony.\n",
    "\t13\t   4758\t\tCatamount family - Rock land - Bullwark family complex, rubbly.\n",
    "\t14\t   5101\t\tPachic Argiborolis - Aquolis complex.\n",
    "\t15\t   5151\t\tunspecified in the USFS Soil and ELU Survey.\n",
    "\t16\t   6101\t\tCryaquolis - Cryoborolis complex.\n",
    "\t17\t   6102\t\tGateview family - Cryaquolis complex.\n",
    "\t18\t   6731\t\tRogert family, very stony.\n",
    "\t19\t   7101\t\tTypic Cryaquolis - Borohemists complex.\n",
    "\t20\t   7102\t\tTypic Cryaquepts - Typic Cryaquolls complex.\n",
    "\t21\t   7103\t\tTypic Cryaquolls - Leighcan family, till substratum complex.\n",
    "\t22\t   7201\t\tLeighcan family, till substratum, extremely bouldery.\n",
    "\t23\t   7202\t\tLeighcan family, till substratum - Typic Cryaquolls complex.\n",
    "\t24\t   7700\t\tLeighcan family, extremely stony.\n",
    "\t25\t   7701\t\tLeighcan family, warm, extremely stony.\n",
    "\t26\t   7702\t\tGranile - Catamount families complex, very stony.\n",
    "\t27\t   7709\t\tLeighcan family, warm - Rock outcrop complex, extremely stony.\n",
    "\t28\t   7710\t\tLeighcan family - Rock outcrop complex, extremely stony.\n",
    "\t29\t   7745\t\tComo - Legault families complex, extremely stony.\n",
    "\t30\t   7746\t\tComo family - Rock land - Legault family complex, extremely stony.\n",
    "\t31\t   7755\t\tLeighcan - Catamount families complex, extremely stony.\n",
    "\t32\t   7756\t\tCatamount family - Rock outcrop - Leighcan family complex, extremely stony.\n",
    "\t33\t   7757\t\tLeighcan - Catamount families - Rock outcrop complex, extremely stony.\n",
    "\t34\t   7790\t\tCryorthents - Rock land complex, extremely stony.\n",
    "\t35\t   8703\t\tCryumbrepts - Rock outcrop - Cryaquepts complex.\n",
    "\t36\t   8707\t\tBross family - Rock land - Cryumbrepts complex, extremely stony.\n",
    "\t37\t   8708\t\tRock outcrop - Cryumbrepts - Cryorthents complex, extremely stony.\n",
    "\t38\t   8771\t\tLeighcan - Moran families - Cryaquolls complex, extremely stony.\n",
    "\t39\t   8772\t\tMoran family - Cryorthents - Leighcan family complex, extremely stony.\n",
    "\t40\t   8776\t\tMoran family - Cryorthents - Rock land complex, extremely stony.\n",
    "\n",
    "        Note:   First digit:  climatic zone             Second digit:  geologic zones\n",
    "                1.  lower montane dry                   1.  alluvium\n",
    "                2.  lower montane                       2.  glacial\n",
    "                3.  montane dry                         3.  shale\n",
    "                4.  montane                             4.  sandstone\n",
    "                5.  montane dry and montane             5.  mixed sedimentary\n",
    "                6.  montane and subalpine               6.  unspecified in the USFS ELU Survey\n",
    "                7.  subalpine                           7.  igneous and metamorphic\n",
    "                8.  alpine                              8.  volcanic\n",
    "\n",
    "        The third and fourth ELU digits are unique to the mapping unit \n",
    "        and have no special meaning to the climatic or geologic zones.\n",
    "\n",
    "Forest Cover Type Classes:\t1 -- Spruce/Fir\n",
    "                            2 -- Lodgepole Pine\n",
    "                            3 -- Ponderosa Pine\n",
    "                            4 -- Cottonwood/Willow\n",
    "                            5 -- Aspen\n",
    "                            6 -- Douglas-fir\n",
    "                            7 -- Krummholz"
   ]
  },
  {
   "cell_type": "code",
   "execution_count": 1,
   "metadata": {
    "collapsed": false
   },
   "outputs": [],
   "source": [
    "%matplotlib inline\n",
    "\n",
    "import os\n",
    "import pandas as pd\n",
    "import numpy as np\n",
    "from scipy.sparse import csr_matrix, hstack\n",
    "\n",
    "#plotting\n",
    "import matplotlib.pyplot as plt\n",
    "from mpl_toolkits.mplot3d import Axes3D\n",
    "import seaborn as sns\n",
    "\n",
    "#libraries for cleaning/feature selection\n",
    "from sklearn.utils import shuffle\n",
    "from sklearn import preprocessing\n",
    "from sklearn.grid_search import GridSearchCV\n",
    "from sklearn.decomposition import PCA\n",
    "from sklearn.feature_selection import SelectKBest, VarianceThreshold\n",
    "\n",
    "#classifiers\n",
    "from sklearn.neighbors import KNeighborsClassifier\n",
    "from sklearn.linear_model import LogisticRegression\n",
    "from sklearn.ensemble import RandomForestClassifier\n",
    "\n",
    "#metrics/cross-validation\n",
    "from sklearn.cross_validation import cross_val_score"
   ]
  },
  {
   "cell_type": "code",
   "execution_count": 2,
   "metadata": {
    "collapsed": true
   },
   "outputs": [],
   "source": [
    "np.random.seed(0)"
   ]
  },
  {
   "cell_type": "code",
   "execution_count": 3,
   "metadata": {
    "collapsed": false
   },
   "outputs": [
    {
     "name": "stdout",
     "output_type": "stream",
     "text": [
      "/home/katherine/Berkeley/W207/W207_ML_Final\n"
     ]
    }
   ],
   "source": [
    "print os.getcwd()"
   ]
  },
  {
   "cell_type": "markdown",
   "metadata": {},
   "source": [
    "##Part 1: Data Collection and Baseline Estimation##\n",
    "First we will download the data and split it into a training, development, and test sets."
   ]
  },
  {
   "cell_type": "markdown",
   "metadata": {},
   "source": [
    "###Load the data###\n",
    "First let's load the data into a Pandas dataframe. The data has a lot of dummy binary features, which means there will be a lot of entries that are zero and we'll be adding more binary features to the data set. We will use a sparse representation in both Pandas and Numpy to save space and reduce computation time on the test set. Read more about Pandas sparse representation here: http://pandas.pydata.org/pandas-docs/stable/sparse.html and Numpy Column Sparse Row (CSR) matrices here: http://docs.scipy.org/doc/scipy/reference/generated/scipy.sparse.csr_matrix.html#scipy.sparse.csr_matrix"
   ]
  },
  {
   "cell_type": "code",
   "execution_count": 4,
   "metadata": {
    "collapsed": false
   },
   "outputs": [
    {
     "name": "stdout",
     "output_type": "stream",
     "text": [
      "df_train type: <class 'pandas.core.frame.DataFrame'>\n",
      "Training set shape (15120, 54)\n",
      "\n",
      "df_test type: <class 'pandas.sparse.frame.SparseDataFrame'>\n",
      "Test set shape (565892, 54)\n"
     ]
    },
    {
     "data": {
      "text/plain": [
       "(array([ 2160.,  2160.,     0.,  2160.,     0.,  2160.,  2160.,     0.,\n",
       "         2160.,  2160.]),\n",
       " array([ 1. ,  1.6,  2.2,  2.8,  3.4,  4. ,  4.6,  5.2,  5.8,  6.4,  7. ]),\n",
       " <a list of 10 Patch objects>)"
      ]
     },
     "execution_count": 4,
     "metadata": {},
     "output_type": "execute_result"
    },
    {
     "data": {
      "image/png": "[encoded data removed]",
      "text/plain": [
       "<matplotlib.figure.Figure at 0x7fe198ecec50>"
      ]
     },
     "metadata": {},
     "output_type": "display_data"
    }
   ],
   "source": [
    "#read the training data into a pandas dataframe\n",
    "data = os.path.join(os.getcwd(),'train.csv')\n",
    "df_train = pd.read_csv(data)\n",
    "#separate out the training labels, drop the Id column from the training dataset\n",
    "df_train_labels = df_train['Cover_Type']\n",
    "df_train = df_train.drop(['Id','Cover_Type'],1)\n",
    "\n",
    "#read the test data into a pandas frame\n",
    "data = os.path.join(os.getcwd(),'test.csv')\n",
    "df_test = pd.read_csv(data).to_sparse()\n",
    "#separate out the Id column, keep it for Kaggle submissions\n",
    "test_ids = np.array(df_test['Id'])\n",
    "df_test = df_test.drop(['Id'],1)\n",
    "\n",
    "\n",
    "#You can see we have loaded the test data into a sparse dataframe\n",
    "print 'df_train type: %s' % type(df_train)\n",
    "print 'Training set shape %s' % str(df_train.shape)\n",
    "print\n",
    "print 'df_test type: %s' % type(df_test)\n",
    "print 'Test set shape %s' % str(df_test.shape)\n",
    "\n",
    "#let's take a look at the range of labels we have\n",
    "plt.hist(df_train_labels.as_matrix())"
   ]
  },
  {
   "cell_type": "markdown",
   "metadata": {},
   "source": [
    "###Baseline model###\n",
    "We initially created a baseline model using the K-Nearest Neighbors classifier with n_neighbors set to 1. With this baseline we were able to obtain an accuracy of 71.06% against the test set."
   ]
  },
  {
   "cell_type": "code",
   "execution_count": 5,
   "metadata": {
    "collapsed": true
   },
   "outputs": [],
   "source": [
    "#We will use this generic function for outputting Kaggle submission CSV files based\n",
    "#on a classifier and training data we define\n",
    "def print_out_kaggle_submission(clf,train_dat,train_lab,test_dat,ids):\n",
    "    clf.fit(train_dat,train_lab)\n",
    "    predicted = clf.predict(test_dat)\n",
    "    outfile = zip(ids, predicted)\n",
    "    np.savetxt(\"Submission.csv\", outfile, fmt='%i', delimiter=',', newline='\\n', header='Id,Cover_Type',comments='')\n",
    "    print \"Saved \", len(outfile),\"records to Submission.csv\"\n",
    "    plt.hist(predicted)"
   ]
  },
  {
   "cell_type": "code",
   "execution_count": 6,
   "metadata": {
    "collapsed": false
   },
   "outputs": [
    {
     "data": {
      "text/plain": [
       "[<matplotlib.lines.Line2D at 0x7fe16acfb450>]"
      ]
     },
     "execution_count": 6,
     "metadata": {},
     "output_type": "execute_result"
    },
    {
     "data": {
      "image/png": "[encoded data removed]",
      "text/plain": [
       "<matplotlib.figure.Figure at 0x7fe16adc7390>"
      ]
     },
     "metadata": {},
     "output_type": "display_data"
    }
   ],
   "source": [
    "X = df_train.as_matrix()\n",
    "Y = df_train_labels.as_matrix()\n",
    "test_data = csr_matrix(df_test.as_matrix())\n",
    "\n",
    "shuffle = np.random.permutation(np.arange(X.shape[0]))\n",
    "X,Y = X[shuffle],Y[shuffle]\n",
    "\n",
    "plt.plot(range(X.shape[0]),Y,\".\") #plot the occurence of each target to ensure we have a good random mix"
   ]
  },
  {
   "cell_type": "code",
   "execution_count": 10,
   "metadata": {
    "collapsed": false
   },
   "outputs": [
    {
     "name": "stdout",
     "output_type": "stream",
     "text": [
      "Saved  565892 records to Submission.csv\n"
     ]
    },
    {
     "data": {
      "text/plain": [
       "(array([  44102.,       0.,   14869.,       0.,   65402.,       0.,\n",
       "         431538.,       0.,       0.,    9981.]),\n",
       " array([ 1. ,  1.5,  2. ,  2.5,  3. ,  3.5,  4. ,  4.5,  5. ,  5.5,  6. ]),\n",
       " <a list of 10 Patch objects>)"
      ]
     },
     "execution_count": 10,
     "metadata": {},
     "output_type": "execute_result"
    },
    {
     "data": {
      "image/png": "[encoded data removed]",
      "text/plain": [
       "<matplotlib.figure.Figure at 0x7fe16ad1b390>"
      ]
     },
     "metadata": {},
     "output_type": "display_data"
    }
   ],
   "source": [
    "knn = KNeighborsClassifier(n_neighbors=1)\n",
    "print_out_kaggle_submission(knn,X,Y,test_data.todense(),test_ids)"
   ]
  },
  {
   "cell_type": "markdown",
   "metadata": {},
   "source": [
    "##Part 2: Exploring Different Models##\n",
    "Next we will use Grid Search to analyze various models to see if we get improvement simply by switching from Nearest Neighbors."
   ]
  },
  {
   "cell_type": "code",
   "execution_count": 12,
   "metadata": {
    "collapsed": false
   },
   "outputs": [
    {
     "name": "stdout",
     "output_type": "stream",
     "text": [
      "Training data: (10080, 54)\n",
      "Development data: (5040, 54)\n"
     ]
    }
   ],
   "source": [
    "X = df_train.as_matrix()\n",
    "Y = np.array(df_train_labels) \n",
    "\n",
    "shuffle = np.random.permutation(np.arange(X.shape[0]))\n",
    "X,Y = X[shuffle],Y[shuffle]\n",
    "\n",
    "# Set some variables to hold dev and training data;\n",
    "N = X.shape[0]\n",
    "dev_data, dev_labels = X[2*N/3:], Y[2*N/3:]\n",
    "train_data, train_labels = X[:2*N/3], Y[:2*N/3]\n",
    "\n",
    "print \"Training data: %s\" % str(train_data.shape)\n",
    "print \"Development data: %s\" % str(dev_data.shape)"
   ]
  },
  {
   "cell_type": "markdown",
   "metadata": {
    "collapsed": true
   },
   "source": [
    "###Logistic Regression###\n",
    "Gaussian Mixture Models did not give us very good accuracy. Let's see if we can do better with Logistic Regression. Logistic Regression is a popular choice for classification because it scales well to large datasets and because of it's probabalistic interpretation."
   ]
  },
  {
   "cell_type": "code",
   "execution_count": 5,
   "metadata": {
    "collapsed": false
   },
   "outputs": [
    {
     "name": "stdout",
     "output_type": "stream",
     "text": [
      "67.0634920635 Accuracy using C = 0.1\n"
     ]
    }
   ],
   "source": [
    "lm = LogisticRegression(C=0.1) #initialize a logistic regression model\n",
    "lm.fit(train_data,train_labels)\n",
    "print '%s Accuracy using C = 0.1' % (lm.score(dev_data,dev_labels)*100)"
   ]
  },
  {
   "cell_type": "markdown",
   "metadata": {},
   "source": [
    "###Random Forests###\n",
    "Now Let's test a Random Forest with a large number of trees. Decision trees and random forests are a good tool because they generally build models that can be explicitly understood and explained, and they create non-linear decision boundaries. "
   ]
  },
  {
   "cell_type": "code",
   "execution_count": 5,
   "metadata": {
    "collapsed": false
   },
   "outputs": [
    {
     "name": "stdout",
     "output_type": "stream",
     "text": [
      "Random Forest gives 84.9801587302 percent Accuracy using 25 trees\n"
     ]
    }
   ],
   "source": [
    "rf = RandomForestClassifier(n_estimators=25)\n",
    "rf.fit(train_data,train_labels)\n",
    "print 'Random Forest gives %s percent Accuracy using 25 trees' % (rf.score(dev_data,dev_labels)*100)"
   ]
  },
  {
   "cell_type": "markdown",
   "metadata": {},
   "source": [
    "Random forests have given by far the best accuracy that we have seen. Let's now evaluate this model."
   ]
  },
  {
   "cell_type": "markdown",
   "metadata": {},
   "source": [
    "##Part 3: Evaluating Our Model##\n",
    "Next we will analyze the accuracy of our chosen model and explore feature engineering and dimensionality reduction to try to improve the accuracy of our Random Forest classifier."
   ]
  },
  {
   "cell_type": "markdown",
   "metadata": {},
   "source": [
    "###Bias/Variance Analysis###\n",
    "A **high bias** model is one that is not affected strongly by changes to the training data; in other words the error rate between the training and development sets are similar, but shows a high amount of error against the test set. Namely it is a model that is **underfit**. A **high variance** model is one that is sensitive to changes in the training data and shows little to no error, however returns a high amount of error against the development and test sets; namely, an **overfit** model. \n",
    "\n",
    "Underfit and overfit models should be dealt with in very different ways when it comes to feature engineering, so before we can determine the steps we should take to improve our model's accuracy we need to understand if the baseline Random Forest is displaying high bias or high variance. To do this, let's run the model with various amounts of estimators and compare the error rate of the model on the training set versus our development set."
   ]
  },
  {
   "cell_type": "code",
   "execution_count": 13,
   "metadata": {
    "collapsed": true
   },
   "outputs": [],
   "source": [
    "#Let's define a simple error rate function; concretely, the average percentage of predictions that are wrong.\n",
    "def error_rate(clf,X,y):\n",
    "    return 1.0/(X.shape[0])*np.sum(np.where(y<>clf.predict(X),np.ones(X.shape[0]),np.zeros(X.shape[0])))"
   ]
  },
  {
   "cell_type": "code",
   "execution_count": 14,
   "metadata": {
    "collapsed": false
   },
   "outputs": [
    {
     "data": {
      "text/plain": [
       "<matplotlib.text.Text at 0x1a194ab0>"
      ]
     },
     "execution_count": 14,
     "metadata": {},
     "output_type": "execute_result"
    },
    {
     "data": {
      "image/png": "[encoded data removed]",
      "text/plain": [
       "<matplotlib.figure.Figure at 0x1a1bffb0>"
      ]
     },
     "metadata": {},
     "output_type": "display_data"
    }
   ],
   "source": [
    "#iterate through several sizes of forest classifiers, \n",
    "#and plot the error rate of the training prediction vs. \n",
    "#the development prediction.\n",
    "trees=[2**i for i in range(10)]\n",
    "train_acc = []\n",
    "dev_acc = []\n",
    "for tree in trees:\n",
    "    rf = RandomForestClassifier(n_estimators=tree)\n",
    "    rf.fit(train_data,train_labels)\n",
    "    train_acc.append(error_rate(rf,train_data,train_labels))\n",
    "    dev_acc.append(error_rate(rf,dev_data,dev_labels))\n",
    "\n",
    "fig = plt.figure(figsize=(10,10))\n",
    "ax = fig.add_subplot(111)\n",
    "ax.plot(trees,train_acc,'--',c='r')\n",
    "ax.plot(trees,dev_acc,':',c='b')\n",
    "ax.set_ylabel(\"Error Rate\")\n",
    "ax.set_xlabel(\"Number of Trees\")\n",
    "ax.set_title(\"Training vs. Development Error: Total Trees\")\n"
   ]
  },
  {
   "cell_type": "markdown",
   "metadata": {},
   "source": [
    "The large gap in the error rate between the development set and the training set, along with the fact that the error rate on the training set essentially drops to 0 as the number of trees increases above 100 tells us that our model as it stands now is high variance and is overfitted. It turns out that trimming the number of features, and engineering new, more generic features does little to help the fit of the random forest model. This is due to the very small training data size versus the test data.\n",
    "\n",
    "Next let's look at the effect of reducing the size of each tree. We will again compare the error rates of the training set against the development set, but this time we'll run for various sizes of each tree."
   ]
  },
  {
   "cell_type": "code",
   "execution_count": 15,
   "metadata": {
    "collapsed": false,
    "scrolled": false
   },
   "outputs": [
    {
     "data": {
      "text/plain": [
       "<matplotlib.text.Text at 0x1a1bf6b0>"
      ]
     },
     "execution_count": 15,
     "metadata": {},
     "output_type": "execute_result"
    },
    {
     "data": {
      "image/png": "[encoded data removed]",
      "text/plain": [
       "<matplotlib.figure.Figure at 0x6e986d0>"
      ]
     },
     "metadata": {},
     "output_type": "display_data"
    }
   ],
   "source": [
    "#iterate through several numbers of levels, \n",
    "#and plot the error rate of the training prediction vs. \n",
    "#the development prediction.\n",
    "levels = range(2,50,1)\n",
    "train_acc = []\n",
    "dev_acc = []\n",
    "for level in levels:\n",
    "    rf = RandomForestClassifier(n_estimators=25,max_depth=level)\n",
    "    rf.fit(train_data,train_labels)\n",
    "    train_acc.append(error_rate(rf,train_data,train_labels))\n",
    "    dev_acc.append(error_rate(rf,dev_data,dev_labels))\n",
    "\n",
    "fig = plt.figure(figsize=(10,10))\n",
    "ax = fig.add_subplot(111)\n",
    "ax.plot(range(2,50,1),train_acc,'--',c='r')\n",
    "ax.plot(range(2,50,1),dev_acc,':',c='b')\n",
    "ax.set_ylabel(\"Error Rate\")\n",
    "ax.set_xlabel(\"Max Depth of Trees\")\n",
    "ax.set_title(\"Training vs. Development Error: Tree Depth\")\n"
   ]
  },
  {
   "cell_type": "markdown",
   "metadata": {},
   "source": [
    "We can see in the above graph that leaving the RandomForestClassifier to split the data unbounded is leading us into the high-variance, over-fitted region that we do not want to be in.\n",
    "\n",
    "Let's restrict the number of levels each tree can reach, this is the Decision Tree version of regularization, and generate a new baseline accuracy for the Random Forest:"
   ]
  },
  {
   "cell_type": "code",
   "execution_count": 18,
   "metadata": {
    "collapsed": true
   },
   "outputs": [],
   "source": [
    "X = df_train.as_matrix()\n",
    "Y = np.array(df_train_labels) \n",
    "test_data = csr_matrix(df_test.as_matrix())\n",
    "\n",
    "shuffle = np.random.permutation(np.arange(X.shape[0]))\n",
    "X,Y = X[shuffle],Y[shuffle]"
   ]
  },
  {
   "cell_type": "code",
   "execution_count": 19,
   "metadata": {
    "collapsed": false
   },
   "outputs": [
    {
     "name": "stdout",
     "output_type": "stream",
     "text": [
      "Average accuracy: 78.5052910053\n"
     ]
    }
   ],
   "source": [
    "rf = RandomForestClassifier(n_estimators=25,max_depth=10)\n",
    "rf.fit(X,Y)\n",
    "print 'Average accuracy: %s' % (np.mean(cross_val_score(rf,X,Y,cv=5))*100)"
   ]
  },
  {
   "cell_type": "code",
   "execution_count": null,
   "metadata": {
    "collapsed": false
   },
   "outputs": [],
   "source": [
    "rf = RandomForestClassifier(n_estimators=25,max_depth=10)\n",
    "print_out_kaggle_submission(rf,X,Y,test_data,test_ids)"
   ]
  },
  {
   "cell_type": "markdown",
   "metadata": {},
   "source": [
    "The new, reduced tree forest has given us a worse accuracy than the K Nearest Neighbors classifier at approximately 62%, however now we know we are underfitting the model, which is easier to adjust with feature engineering."
   ]
  },
  {
   "cell_type": "markdown",
   "metadata": {},
   "source": [
    "##Part 4: Engineering and Tuning our Model##\n",
    "Now that we've adjusted the Random Forest to be a more biased model we will work on improving the feature space. In particular, let's add polynomial features to our data. By adding interaction terms we can try to capture a non-linear decision boundary. \n",
    "\n",
    "We will use sci-kit learn's cross validation library to run a 5-fold cross validation on our fit model. You can read more about cross validation here: http://scikit-learn.org/stable/modules/cross_validation.html"
   ]
  },
  {
   "cell_type": "markdown",
   "metadata": {},
   "source": [
    "##Adding new features##\n",
    "A first option to reduce bias in a model is to add new features that represent relationships the Random Forest can not extract by itself. Here is what we will do to add new features:\n",
    "1. Add generic soil type fields based on the specific soil type fields available in the baseline data. Namely, we will pull out the first two soild ID prefix values as the last two values are merely for identification purposes.\n",
    "2. Add binary fields for each climatic zone that is represented: lower montane dry, lower montane, montane dry, montane, subalpine, and alpine. Note that some records consist of multiple climatic zones.\n",
    "3. We will add binary features for the Aspect field, truncating the aspect degrees into 90 degree quadrants.\n",
    "4. We will engineer some of the existing features such as scaling the shade value fields to be between 0 and 1, convert degree fields to radians, and combine the two distance to hydrology features into a single, 3D distance field."
   ]
  },
  {
   "cell_type": "code",
   "execution_count": 4,
   "metadata": {
    "collapsed": false
   },
   "outputs": [
    {
     "name": "stdout",
     "output_type": "stream",
     "text": [
      "(15120, 81)\n",
      "(565892, 81)\n"
     ]
    }
   ],
   "source": [
    "#Functions for feature engineering\n",
    "def add_soil_prefix_fields(df):\n",
    "    #adds new variables to a dataframe that represent the climatic and geologic zones \n",
    "    #(first two digits of the soil type variable)\n",
    "    #we'll use a dicitonary to isolate the soil id's by their climatic/geologic prefix\n",
    "    soil_id = {'27':['1','2','3','4','5','6'],\n",
    "               '35':['7','8'],\n",
    "               '42':['9'],\n",
    "               '47':['10','11','12','13'],\n",
    "               '51':['14','15'],\n",
    "               '61':['16','17'],\n",
    "               '67':['18'],\n",
    "               '71':['19','20','21'],\n",
    "               '72':['22','23'],\n",
    "               '77':['24','25','26','27','28','29','30','31','32','33','34'],\n",
    "               '87':['35','36','37','38','39','40']\n",
    "              }\n",
    "\n",
    "    climatic = {'2':['1','2','3','4','5','6'],\n",
    "                '3':['7','8'],\n",
    "               '4':['9','10','11','12','13'],\n",
    "               '5':['14','15'],\n",
    "               '6':['16','17','18'],\n",
    "               '7':['19','20','21','22','23','24','25','26','27','28','29','30','31','32','33','34'],\n",
    "               '8':['35','36','37','38','39','40']\n",
    "               }\n",
    "\n",
    "    geologic = {'1':['14','15','16','17','19','20','21'],\n",
    "                '2':['9','22','23'],\n",
    "                '5':['7','8'],\n",
    "                '7':['1','2','3','4','5','6','10','11','12','13','18','24','25','26','27','28',\n",
    "                     '29','30','31','32','33','34','35','36','37','38','39','40']\n",
    "               }\n",
    "\n",
    "    #add new variables for the soil type prefix, climatic zone, and geologic zone\n",
    "    for key in soil_id:\n",
    "        clim,geol = key[0],key[1]\n",
    "        df_clim_geol = df[['Soil_Type%s' % i for i in soil_id[key]]] #soil type dual prefixes\n",
    "        df_clim = df[['Soil_Type%s' % i for i in climatic[clim]]] #subset of df of climatic types\n",
    "        df_geol = df[['Soil_Type%s' % i for i in geologic[geol]]] #subset of df of climatic types\n",
    "        \n",
    "        df['soil prefix %s' % key] = np.sum(np.asarray(df_clim_geol),axis=1)\n",
    "        df['climatic zone %s' % clim] = np.sum(np.asarray(df_clim),axis=1)\n",
    "        df['geologic zone %s' % geol] = np.sum(np.asarray(df_geol),axis=1)\n",
    "        del df_clim_geol\n",
    "        del df_clim\n",
    "        del df_geol\n",
    "    #df = df.drop([col for col in df.columns if col[:9]=='Soil_Type'],1)#drop the soil type fields\n",
    "    return df\n",
    "\n",
    "def generic_climatic(df):\n",
    "    climatic = {'lower montane':['1','2'],\n",
    "                'montane':['3','4','5','6'],\n",
    "               'subalpine':['6','7'],\n",
    "               'alpine':['8'],\n",
    "               }\n",
    "    for key in climatic:\n",
    "        fields = ['climatic zone %s' % clim for clim in climatic[key] if 'climatic zone %s' % clim in df]\n",
    "        df_climate = df[fields]\n",
    "        df['%s zone' % key] = np.sum(np.asarray(df_climate),axis=1)\n",
    "        del df_climate\n",
    "    return df\n",
    "    \n",
    "def degrees_to_radians(df):\n",
    "    for col in ['Aspect','Slope']:\n",
    "        df[col] = np.radians(df[col].as_matrix())\n",
    "    return df\n",
    "\n",
    "def add_aspect_quadrants(df):\n",
    "    df['Aspect0_90'] = np.where(df['Aspect']<0.5,np.ones(df.shape[0]),np.zeros(df.shape[0]))\n",
    "    df['Aspect90_180'] = np.where(df['Aspect']<1,np.ones(df.shape[0]),np.zeros(df.shape[0])) - np.array(df['Aspect0_90'])\n",
    "    df['Aspect180_270'] = np.where(df['Aspect']<1.5,np.ones(df.shape[0]),np.zeros(df.shape[0])) - np.array(df['Aspect0_90'] + df['Aspect90_180'])\n",
    "    df['Aspect270_360'] = np.where(df['Aspect']>=1.5,np.ones(df.shape[0]),np.zeros(df.shape[0]))\n",
    "    #df = df.drop('Aspect',1)#drop the aspect column\n",
    "    return df\n",
    "\n",
    "def scale_shade_value(df):\n",
    "    for col in ['Hillshade_9am','Hillshade_Noon','Hillshade_3pm']:\n",
    "        df[col] = df[col]*(1.0/255)\n",
    "    return df\n",
    "\n",
    "def total_dist_to_hydro(df):\n",
    "    df['Total Distance to Hydrology'] = np.sqrt(df['Horizontal_Distance_To_Hydrology']**2 + df['Vertical_Distance_To_Hydrology']**2)\n",
    "    return df\n",
    "\n",
    "#add fields for the soil type climatic and geologic zone prefixes\n",
    "df_train = add_soil_prefix_fields(df_train)\n",
    "df_train = generic_climatic(df_train)\n",
    "df_train = degrees_to_radians(df_train)\n",
    "df_train = scale_shade_value(df_train)\n",
    "df_train = total_dist_to_hydro(df_train)\n",
    "\n",
    "df_test = add_soil_prefix_fields(df_test)\n",
    "df_test = generic_climatic(df_test)\n",
    "df_test = degrees_to_radians(df_test)\n",
    "df_test = scale_shade_value(df_test)\n",
    "df_test = total_dist_to_hydro(df_test)\n",
    "\n",
    "\n",
    "print df_train.shape\n",
    "print df_test.shape"
   ]
  },
  {
   "cell_type": "code",
   "execution_count": 7,
   "metadata": {
    "collapsed": false
   },
   "outputs": [],
   "source": [
    "X = df_train.as_matrix()\n",
    "Y = np.array(df_train_labels) \n",
    "test_data = csr_matrix(df_test.as_matrix())\n",
    "\n",
    "shuffle = np.random.permutation(np.arange(X.shape[0]))\n",
    "X,Y = X[shuffle],Y[shuffle]"
   ]
  },
  {
   "cell_type": "code",
   "execution_count": 8,
   "metadata": {
    "collapsed": false
   },
   "outputs": [
    {
     "name": "stdout",
     "output_type": "stream",
     "text": [
      "Average accuracy: 77.8505291005\n"
     ]
    }
   ],
   "source": [
    "rf = RandomForestClassifier(n_estimators=25,max_depth=10)\n",
    "rf.fit(X,Y)\n",
    "print 'Average accuracy: %s' % (np.mean(cross_val_score(rf,X,Y,cv=5))*100)"
   ]
  },
  {
   "cell_type": "code",
   "execution_count": 16,
   "metadata": {
    "collapsed": false
   },
   "outputs": [
    {
     "name": "stdout",
     "output_type": "stream",
     "text": [
      "Saved  565892 records to NewFeaturesSubmission.csv\n"
     ]
    },
    {
     "data": {
      "image/png": "[encoded data removed]",
      "text/plain": [
       "<matplotlib.figure.Figure at 0x7f7b48f354d0>"
      ]
     },
     "metadata": {},
     "output_type": "display_data"
    }
   ],
   "source": [
    "rf = RandomForestClassifier(n_estimators=25,max_depth=10)\n",
    "print_out_kaggle_submission(rf,X,Y,test_data,test_ids)"
   ]
  },
  {
   "cell_type": "markdown",
   "metadata": {
    "collapsed": true
   },
   "source": [
    "###Scaling Real Valued Features - Removing Low Variance Binary Features###"
   ]
  },
  {
   "cell_type": "code",
   "execution_count": 7,
   "metadata": {
    "collapsed": false
   },
   "outputs": [
    {
     "name": "stdout",
     "output_type": "stream",
     "text": [
      "New training size: (15120, 23)\n",
      "<type 'numpy.ndarray'>\n",
      "New test size: (565892, 23)\n",
      "<class 'scipy.sparse.coo.coo_matrix'>\n"
     ]
    }
   ],
   "source": [
    "#variables to scale\n",
    "real_valued = ['Elevation','Aspect','Slope','Horizontal_Distance_To_Hydrology',\n",
    "       'Vertical_Distance_To_Hydrology','Horizontal_Distance_To_Roadways',\n",
    "       'Hillshade_9am','Hillshade_Noon','Hillshade_3pm','Horizontal_Distance_To_Fire_Points','Total Distance to Hydrology']\n",
    "\n",
    "X_real = df_train[real_valued].as_matrix()\n",
    "df_train_bin = df_train.drop(real_valued,1)\n",
    "X_bin = df_train_bin.as_matrix()\n",
    "\n",
    "#remove binary features that have more than 80% of the same value\n",
    "var = VarianceThreshold(threshold=(.8 * (1 - .8))) \n",
    "X_bin = var.fit_transform(X_bin)\n",
    "\n",
    "test_real = df_test[real_valued].as_matrix()\n",
    "df_test_bin = df_test.drop(real_valued,1)\n",
    "test_bin = csr_matrix(df_test_bin.as_matrix())\n",
    "\n",
    "#transform test binary variables based on training data\n",
    "test_bin = var.transform(test_bin)\n",
    "\n",
    "#scale and transform the (dense) real-valued features of the training and test data\n",
    "scaler = preprocessing.StandardScaler()\n",
    "scaler.fit_transform(X_real)\n",
    "scaler.transform(test_real)\n",
    "\n",
    "X = np.hstack([X_real,X_bin])\n",
    "test_data = hstack([test_real,test_bin])\n",
    "\n",
    "#delete data frames and temporary data arrays\n",
    "del df_train_bin\n",
    "del df_test_bin\n",
    "del X_real\n",
    "del X_bin\n",
    "del test_real\n",
    "del test_bin\n",
    "\n",
    "print \"New training size: %s\" % str(X.shape)\n",
    "print type(X)\n",
    "print \"New test size: %s\" % str(test_data.shape)\n",
    "print type(test_data)"
   ]
  },
  {
   "cell_type": "code",
   "execution_count": 9,
   "metadata": {
    "collapsed": false
   },
   "outputs": [],
   "source": [
    "shuffle = np.random.permutation(np.arange(X.shape[0]))\n",
    "X,Y = X[shuffle],Y[shuffle]"
   ]
  },
  {
   "cell_type": "code",
   "execution_count": null,
   "metadata": {
    "collapsed": false
   },
   "outputs": [],
   "source": [
    "rf = RandomForestClassifier(n_estimators=25,max_depth=10)\n",
    "print_out_kaggle_submission(rf,X,Y,test_data,test_ids)"
   ]
  },
  {
   "cell_type": "markdown",
   "metadata": {},
   "source": [
    "###Feature Selection###"
   ]
  },
  {
   "cell_type": "code",
   "execution_count": null,
   "metadata": {
    "collapsed": false
   },
   "outputs": [],
   "source": [
    "# Set some variables to hold dev and training data;\n",
    "N = X.shape[0]\n",
    "#test_data, test_labels = X[2*N/3:], Y[2*N/3:]\n",
    "dev_data, dev_labels = X[2*N/3:], Y[2*N/3:]\n",
    "train_data, train_labels = X[:2*N/3], Y[:2*N/3]\n",
    "\n",
    "features = df_train.columns\n",
    "rf = RandomForestClassifier(n_estimators=25,max_depth=5)\n",
    "rf.fit(train_data,train_labels)\n",
    "\n",
    "importances = zip(features,rf.feature_importances_)\n",
    "importances.sort(key = lambda t: -1*t[1])\n",
    "print \"Feature ranks:\\n\"\n",
    "for feat,i in importances[:15]:\n",
    "    print '%s: %s\\n' % (feat,i)"
   ]
  },
  {
   "cell_type": "code",
   "execution_count": 6,
   "metadata": {
    "collapsed": false
   },
   "outputs": [
    {
     "name": "stdout",
     "output_type": "stream",
     "text": [
      "(15120, 10)\n",
      "(565892, 10)\n"
     ]
    }
   ],
   "source": [
    "del train_data\n",
    "del train_labels\n",
    "del test_data\n",
    "\n",
    "#top 10 features\n",
    "df_train = df_train[[feature for feature,rank in importances[:10]]]\n",
    "df_test = df_test[[feature for feature,rank in importances[:10]]]\n",
    "\n",
    "X_reduced = df_train.as_matrix()\n",
    "Y = df_train_labels.as_matrix()\n",
    "test_reduced = df_test.as_matrix()\n",
    "\n",
    "#shuffle the data again\n",
    "shuffle = np.random.permutation(np.arange(X.shape[0]))\n",
    "X,Y = X[shuffle],Y[shuffle]\n",
    "\n",
    "print X_reduced.shape\n",
    "print test_reduced.shape"
   ]
  },
  {
   "cell_type": "code",
   "execution_count": null,
   "metadata": {
    "collapsed": false
   },
   "outputs": [],
   "source": [
    "def TopTenBaseline(X,Y,test_data,test_ids):\n",
    "    # Instantiate the KNeighborsClassifier class with appropriate k for entire data set\n",
    "    clf = RandomForestClassifier(n_estimators=25,max_depth=10)\n",
    "    clf.fit(X,Y)\n",
    "    predicted = clf.predict(test_data)\n",
    "    outfile = zip(test_ids, predicted)\n",
    "    np.savetxt(\"KMSSubmission.csv\", outfile, fmt='%i', delimiter=',', newline='\\n', header='Id,Cover_Type',comments='')\n",
    "    print \"Saved \", len(outfile),\"records to BaseSubmission.csv\"\n",
    "\n",
    "\n",
    "TopTenBaseline(X_reduced,Y,test_reduced,test_ids)"
   ]
  },
  {
   "cell_type": "markdown",
   "metadata": {},
   "source": [
    "###Polynomial Features###\n",
    "\n"
   ]
  },
  {
   "cell_type": "code",
   "execution_count": 12,
   "metadata": {
    "collapsed": false
   },
   "outputs": [
    {
     "name": "stdout",
     "output_type": "stream",
     "text": [
      "Average accuracy: 71.0582010582\n"
     ]
    }
   ],
   "source": [
    "poly = preprocessing.PolynomialFeatures(degree=2,include_bias=False)\n",
    "X_poly = poly.fit_transform(X)\n",
    "#test_poly = poly.transform(test_data)\n",
    "\n",
    "rf = RandomForestClassifier(n_estimators=25,max_depth=10)\n",
    "rf.fit(X_poly,Y)\n",
    "print 'Average accuracy: %s' % (np.mean(cross_val_score(rf,X_poly,Y,cv=5))*100)"
   ]
  },
  {
   "cell_type": "code",
   "execution_count": null,
   "metadata": {
    "collapsed": true
   },
   "outputs": [],
   "source": [
    "def PolyTreeBaseline(X,Y,test_data,test_ids):\n",
    "    # Instantiate the KNeighborsClassifier class with appropriate k for entire data set\n",
    "    clf = RandomForestClassifier(n_estimators=25,max_depth=10)\n",
    "    clf.fit(X,Y)\n",
    "    predicted = clf.predict(test_data)\n",
    "    outfile = zip(test_ids, predicted)\n",
    "    np.savetxt(\"PolySubmission.csv\", outfile, fmt='%i', delimiter=',', newline='\\n', header='Id,Cover_Type',comments='')\n",
    "    print \"Saved \", len(outfile),\"records to BaseSubmission.csv\"\n",
    "\n",
    "PolyTreeBaseline(X_poly,Y,test_poly,test_ids)"
   ]
  },
  {
   "cell_type": "markdown",
   "metadata": {},
   "source": [
    "###Sparse Matrices and Scaling###\n",
    "For our feature engineering we will convert the test dataframe to a SciPy sparse matrix. In particular we will use a Compressed Sparse Row matrix. Read more about Compressed Sparse Row matrices and their operations here: http://docs.scipy.org/doc/scipy/reference/generated/scipy.sparse.csr_matrix.html#scipy.sparse.csr_matrix"
   ]
  },
  {
   "cell_type": "code",
   "execution_count": 4,
   "metadata": {
    "collapsed": false
   },
   "outputs": [
    {
     "name": "stdout",
     "output_type": "stream",
     "text": [
      "[ 0.7172619   0.73776455  0.75661376  0.78835979  0.83862434]\n"
     ]
    },
    {
     "name": "stderr",
     "output_type": "stream",
     "text": [
      "C:\\Python27\\lib\\site-packages\\sklearn\\utils\\validation.py:498: UserWarning: StandardScaler assumes floating point values as input, got int64\n",
      "  \"got %s\" % (estimator, X.dtype))\n"
     ]
    }
   ],
   "source": [
    "scaler = preprocessing.StandardScaler(copy=False,with_mean=False) #select 5 best features\n",
    "X_scaled = scaler.fit_transform(X)\n",
    "test_scaled = scaler.transform(test_data)\n",
    "\n",
    "clf = RandomForestClassifier(n_estimators=25)\n",
    "clf.fit(X_scaled,Y)\n",
    "print cross_val_score(clf,X_scaled,Y,cv=5)\n"
   ]
  },
  {
   "cell_type": "markdown",
   "metadata": {},
   "source": [
    "####Scale the data, convert to Numpy arrays####"
   ]
  },
  {
   "cell_type": "markdown",
   "metadata": {
    "collapsed": true
   },
   "source": [
    "###Logistic Regression###"
   ]
  },
  {
   "cell_type": "markdown",
   "metadata": {},
   "source": [
    "Let's look instead back at our Logistic Regression model. For this model we will map the error rate versus the total size of the training set for various sizes of the training and development sets."
   ]
  },
  {
   "cell_type": "code",
   "execution_count": 14,
   "metadata": {
    "collapsed": false
   },
   "outputs": [
    {
     "data": {
      "text/plain": [
       "<matplotlib.text.Text at 0x18561b50>"
      ]
     },
     "execution_count": 14,
     "metadata": {},
     "output_type": "execute_result"
    },
    {
     "data": {
      "image/png": "[encoded data removed]",
      "text/plain": [
       "<matplotlib.figure.Figure at 0xb78b930>"
      ]
     },
     "metadata": {},
     "output_type": "display_data"
    }
   ],
   "source": [
    "#Learning curves\n",
    "train_acc = []\n",
    "dev_acc = []\n",
    "# Set some variables to hold dev and training data;\n",
    "N = X.shape[0]\n",
    "for i in range(10,N,50):\n",
    "    X, Y = shuffle(X,Y,random_state=0) #shuffle the feature matrix and target array\n",
    "    train_data, train_labels = X[:i], Y[:i]\n",
    "    dev_data, dev_labels = X[i:],Y[i:]\n",
    "    \n",
    "    #iterate through several sizes of the feature set, \n",
    "    #and plot the error rate of the training prediction vs. \n",
    "    #the development prediction.\n",
    "    lr = LogisticRegression(C=1)\n",
    "    lr.fit(train_data,train_labels)\n",
    "    \n",
    "    train_acc.append(error_rate(lr,train_data,train_labels))\n",
    "    dev_acc.append(error_rate(lr,dev_data,dev_labels))\n",
    "\n",
    "fig = plt.figure(figsize=(10,10))\n",
    "ax = fig.add_subplot(111)\n",
    "ax.plot(range(10,N,50),train_acc,'--',c='r')\n",
    "ax.plot(range(10,N,50),dev_acc,':',c='b')\n",
    "ax.set_ylabel(\"Error Rate\")\n",
    "ax.set_xlabel(\"Number of Training Examples\")\n",
    "ax.set_title(\"Training vs. Development Error: Total Training Examples\")\n",
    "\n"
   ]
  },
  {
   "cell_type": "markdown",
   "metadata": {},
   "source": [
    "The chart shows that although our raw Logistic Regression model has a high amount of bias, the variance is very low. With a high bias model our data as it stands now simply does not fit the data very well, and adding more data points will not change the error rate. Instead we want to explore adding new higher-order features through feature engineering to see if we can fit the data better."
   ]
  },
  {
   "cell_type": "markdown",
   "metadata": {},
   "source": [
    "###Feature Engineering###\n",
    "Now that we have a biased model we will work on improving the feature space. In particular, let's add polynomial features to our data. By adding interaction terms we can try to capture a non-linear decision boundary with our Logistic Regression function.\n",
    "\n",
    "We will use sci-kit learn's cross validation library to run a 5-fold cross validation on our fit model. You can read more about cross validation here: http://scikit-learn.org/stable/modules/cross_validation.html"
   ]
  },
  {
   "cell_type": "code",
   "execution_count": 4,
   "metadata": {
    "collapsed": false
   },
   "outputs": [
    {
     "name": "stdout",
     "output_type": "stream",
     "text": [
      "[ 0.59193122  0.64285714  0.65112434  0.65641534  0.73313492]\n"
     ]
    }
   ],
   "source": [
    "lr = LogisticRegression(C = .1)\n",
    "lr.fit(X,Y)\n",
    "print cross_val_score(lr,X,Y,cv=5)"
   ]
  },
  {
   "cell_type": "markdown",
   "metadata": {},
   "source": [
    "We can see that by adding polynomial features we see an average increase in accuracy by approximately 5% over the baseline logistic regression model.\n",
    "\n",
    "Another option to reduce bias in a model is to tweak the regularization parameter, C. Let's run our previous error comparison for various values of C."
   ]
  },
  {
   "cell_type": "code",
   "execution_count": 4,
   "metadata": {
    "collapsed": false
   },
   "outputs": [
    {
     "data": {
      "text/plain": [
       "<matplotlib.text.Text at 0xb249070>"
      ]
     },
     "execution_count": 4,
     "metadata": {},
     "output_type": "execute_result"
    },
    {
     "data": {
      "image/png": "[encoded data removed]",
      "text/plain": [
       "<matplotlib.figure.Figure at 0xb218510>"
      ]
     },
     "metadata": {},
     "output_type": "display_data"
    }
   ],
   "source": [
    "poly = preprocessing.PolynomialFeatures(degree=2)\n",
    "X_poly = poly.fit_transform(X)\n",
    "\n",
    "train_acc = []\n",
    "dev_acc = []\n",
    "# Set some variables to hold dev and training data;\n",
    "N = X_poly.shape[0]\n",
    "X_poly, Y = shuffle(X_poly,Y,random_state=0) #shuffle the feature matrix and target array\n",
    "train_data, train_labels = X_poly[:N*8/10], Y[:N*8/10]\n",
    "dev_data, dev_labels = X_poly[N*8/10:],Y[N*8/10:]\n",
    "for i in [10**i for i in range(-5,4)]:\n",
    "    #iterate through several sizes for the regularization parameter, \n",
    "    #and plot the error rate of the training prediction vs. \n",
    "    #the development prediction.\n",
    "    lr = LogisticRegression(C=i)\n",
    "    lr.fit(train_data,train_labels)\n",
    "    \n",
    "    train_acc.append(error_rate(lr,train_data,train_labels))\n",
    "    dev_acc.append(error_rate(lr,dev_data,dev_labels))\n",
    "\n",
    "fig = plt.figure(figsize=(10,10))\n",
    "ax = fig.add_subplot(111)\n",
    "ax.plot(np.log([10**i for i in range(-5,4)]),train_acc,'--',c='r')\n",
    "ax.plot(np.log([10**i for i in range(-5,4)]),dev_acc,':',c='b')\n",
    "ax.set_ylabel(\"Error Rate\")\n",
    "ax.set_xlabel(\"Log of Regularization Parameter\")\n",
    "ax.set_title(\"Training vs. Development Error: Regularization Parameter\")\n",
    "\n"
   ]
  }
 ],
 "metadata": {
  "kernelspec": {
   "display_name": "Python 2",
   "language": "python",
   "name": "python2"
  },
  "language_info": {
   "codemirror_mode": {
    "name": "ipython",
    "version": 2
   },
   "file_extension": ".py",
   "mimetype": "text/x-python",
   "name": "python",
   "nbconvert_exporter": "python",
   "pygments_lexer": "ipython2",
   "version": "2.7.10"
  }
 },
 "nbformat": 4,
 "nbformat_minor": 0
}
